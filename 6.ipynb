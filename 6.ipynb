{
 "cells": [
  {
   "cell_type": "code",
   "execution_count": 2,
   "metadata": {
    "collapsed": false
   },
   "outputs": [
    {
     "name": "stdout",
     "output_type": "stream",
     "text": [
      "[[], [], [], [], []]\n"
     ]
    }
   ],
   "source": [
    "numRows = 5\n",
    "zigzag = []\n",
    "for i in range(0, numRows):\n",
    "    zigzag.append([])\n",
    "print(zigzag)"
   ]
  },
  {
   "cell_type": "code",
   "execution_count": 4,
   "metadata": {
    "collapsed": false
   },
   "outputs": [
    {
     "name": "stdout",
     "output_type": "stream",
     "text": [
      "P\n",
      "A\n",
      "Y\n",
      "P\n",
      "A\n",
      "L\n",
      "I\n",
      "S\n",
      "H\n",
      "I\n",
      "R\n",
      "I\n",
      "N\n",
      "G\n"
     ]
    }
   ],
   "source": [
    "s = 'PAYPALISHIRING'\n",
    "for i in s:\n",
    "    print(i)"
   ]
  },
  {
   "cell_type": "code",
   "execution_count": 8,
   "metadata": {
    "collapsed": false
   },
   "outputs": [
    {
     "name": "stdout",
     "output_type": "stream",
     "text": [
      "[[], [], []]\n",
      "P 0\n",
      "A 1\n",
      "Y 2\n",
      "P 2\n",
      "A 1\n",
      "L 0\n",
      "I 0\n",
      "S 1\n",
      "H 2\n",
      "I 2\n",
      "R 1\n",
      "I 0\n",
      "N 0\n",
      "G 1\n",
      "[['P', 'L', 'I', 'I', 'N'], ['A', 'A', 'S', 'R', 'G'], ['Y', 'P', 'H', 'I']]\n"
     ]
    }
   ],
   "source": [
    "numRows = 3\n",
    "s = 'PAYPALISHIRING' # test\n",
    "#init zigzag list\n",
    "lists = []\n",
    "for i in range(0, numRows):\n",
    "    lists.append([])\n",
    "print(lists)\n",
    "\n",
    "zigzag = 0\n",
    "flag = '+'\n",
    "for i in s:\n",
    "    print(i,zigzag)\n",
    "    lists[zigzag].append(i)\n",
    "    if flag is '+':\n",
    "        if zigzag + 1 < numRows:\n",
    "            zigzag += 1\n",
    "        else:\n",
    "            #zigzag == max\n",
    "            flag = '-'\n",
    "    else:\n",
    "        if zigzag > 0:\n",
    "            zigzag -= 1\n",
    "        else:\n",
    "            flag = '+'\n",
    "\n",
    "print(lists)"
   ]
  },
  {
   "cell_type": "code",
   "execution_count": 11,
   "metadata": {
    "collapsed": false
   },
   "outputs": [
    {
     "name": "stdout",
     "output_type": "stream",
     "text": [
      "[[], [], [], []]\n",
      "P\n",
      "A\n",
      "Y\n",
      "P\n",
      "A\n",
      "L\n",
      "I\n",
      "S\n",
      "H\n",
      "I\n",
      "R\n",
      "I\n",
      "N\n",
      "G\n",
      "[['P', 'I', 'N'], ['A', 'L', 'S', 'I', 'G'], ['Y', 'A', 'H', 'R'], ['P', 'I']]\n"
     ]
    }
   ],
   "source": [
    "def convert(s, numRows):\n",
    "    \"\"\"convert zigzag\n",
    "\n",
    "    i: string, numRows\n",
    "    o: converted string\n",
    "    solution: init n list for storing the string. then output\n",
    "    \"\"\"\n",
    "\n",
    "    #init zigzag list\n",
    "    lists = []\n",
    "    for i in range(0, numRows):\n",
    "        lists.append([])\n",
    "    print(lists)\n",
    "\n",
    "    zigzag = 0\n",
    "    flag = '+'\n",
    "    for i in s:\n",
    "        print(i)\n",
    "        lists[zigzag].append(i)\n",
    "        if flag is '+':\n",
    "            if zigzag + 1 < numRows:\n",
    "                zigzag += 1\n",
    "            else:\n",
    "                #zigzag == max\n",
    "                flag = '-'\n",
    "                zigzag -= 1\n",
    "        else:\n",
    "            if zigzag > 0:\n",
    "                zigzag -= 1\n",
    "            else:\n",
    "                flag = '+'\n",
    "                zigzag += 1\n",
    "    print(lists)\n",
    "\n",
    "s = 'PAYPALISHIRING' # test\n",
    "convert(s, 4)"
   ]
  },
  {
   "cell_type": "code",
   "execution_count": 12,
   "metadata": {
    "collapsed": false
   },
   "outputs": [
    {
     "name": "stdout",
     "output_type": "stream",
     "text": [
      "['P', 'I', 'N']\n"
     ]
    }
   ],
   "source": [
    "print (str(['P', 'I', 'N']))"
   ]
  },
  {
   "cell_type": "code",
   "execution_count": 13,
   "metadata": {
    "collapsed": false
   },
   "outputs": [
    {
     "name": "stdout",
     "output_type": "stream",
     "text": [
      "st\n"
     ]
    }
   ],
   "source": [
    "s = 's'\n",
    "s += 't'\n",
    "print(s)"
   ]
  },
  {
   "cell_type": "code",
   "execution_count": 15,
   "metadata": {
    "collapsed": false
   },
   "outputs": [
    {
     "name": "stdout",
     "output_type": "stream",
     "text": [
      "[[], [], [], []]\n",
      "P\n",
      "A\n",
      "Y\n",
      "P\n",
      "A\n",
      "L\n",
      "I\n",
      "S\n",
      "H\n",
      "I\n",
      "R\n",
      "I\n",
      "N\n",
      "G\n",
      "PINALSIGYAHRPI\n"
     ]
    }
   ],
   "source": [
    "def convert(s, numRows):\n",
    "    \"\"\"convert zigzag\n",
    "\n",
    "    i: string, numRows\n",
    "    o: converted string\n",
    "    solution: init n list for storing the string. then output\n",
    "    \"\"\"\n",
    "    s = 'PAYPALISHIRING' # test\n",
    "    #init zigzag list\n",
    "    lists = []\n",
    "    for i in range(0, numRows):\n",
    "        lists.append([])\n",
    "    print(lists)\n",
    "\n",
    "    zigzag = 0\n",
    "    flag = '+'\n",
    "    for i in s:\n",
    "        print(i)\n",
    "        lists[zigzag].append(i)\n",
    "        if flag is '+':\n",
    "            if zigzag + 1 < numRows:\n",
    "                zigzag += 1\n",
    "            else:\n",
    "                #zigzag == max\n",
    "                flag = '-'\n",
    "                zigzag -= 1\n",
    "        else:\n",
    "            if zigzag > 0:\n",
    "                zigzag -= 1\n",
    "            else:\n",
    "                flag = '+'\n",
    "                zigzag += 1\n",
    "\n",
    "    zigzag_string = ''\n",
    "    for i in lists:\n",
    "        for j in i:\n",
    "            zigzag_string += j\n",
    "    print(zigzag_string)\n",
    "\n",
    "s = 'PAYPALISHIRING' # test\n",
    "convert(s, 4)"
   ]
  },
  {
   "cell_type": "code",
   "execution_count": 1,
   "metadata": {
    "collapsed": false
   },
   "outputs": [
    {
     "name": "stdout",
     "output_type": "stream",
     "text": [
      "PINALSIGYAHRPI\n",
      "PAHNAPLSIIGYIR\n",
      "PAYPALISHIRING\n",
      "PHASIYIRPLIGAN\n"
     ]
    }
   ],
   "source": [
    "# -*- coding: utf-8 -*-\n",
    "# Author Frank Hu\n",
    "# LeatCode #6 ZigZag Conversion\n",
    "\n",
    "class Solution:\n",
    "    # @param {string} s\n",
    "    # @param {integer} numRows\n",
    "    # @return {string}\n",
    "\n",
    "    def convert(self, s, numRows):\n",
    "        \"\"\"convert zigzag\n",
    "\n",
    "        i: string, numRows\n",
    "        o: converted string\n",
    "        solution: init n list for storing the string. then output\n",
    "        \"\"\"\n",
    "        s = 'PAYPALISHIRING' # test\n",
    "        #init zigzag list\n",
    "        lists = []\n",
    "        for i in range(0, numRows):\n",
    "            lists.append([])\n",
    "        # print(lists)\n",
    "\n",
    "        zigzag = 0\n",
    "        flag = '+'\n",
    "        for i in s:\n",
    "            # print(i)\n",
    "            lists[zigzag].append(i)\n",
    "            if flag is '+':\n",
    "                if zigzag + 1 < numRows:\n",
    "                    zigzag += 1\n",
    "                else:\n",
    "                    #zigzag == max\n",
    "                    flag = '-'\n",
    "                    zigzag -= 1\n",
    "            else:\n",
    "                if zigzag > 0:\n",
    "                    zigzag -= 1\n",
    "                else:\n",
    "                    flag = '+'\n",
    "                    zigzag += 1\n",
    "\n",
    "        zigzag_string = ''\n",
    "        for i in lists:\n",
    "            for j in i:\n",
    "                zigzag_string += j\n",
    "        #print(zigzag_string)\n",
    "        return zigzag_string\n",
    "\n",
    "t = Solution()\n",
    "print(t.convert('PAYPALISHIRING', 4))\n",
    "print(t.convert('PAYPALISHIRING', 3))\n",
    "print(t.convert('PAYPALISHIRING', 1))\n",
    "print(t.convert('PAYPALISHIRING', 5))"
   ]
  },
  {
   "cell_type": "code",
   "execution_count": null,
   "metadata": {
    "collapsed": true
   },
   "outputs": [],
   "source": []
  }
 ],
 "metadata": {
  "kernelspec": {
   "display_name": "Python 3",
   "language": "python",
   "name": "python3"
  },
  "language_info": {
   "codemirror_mode": {
    "name": "ipython",
    "version": 3
   },
   "file_extension": ".py",
   "mimetype": "text/x-python",
   "name": "python",
   "nbconvert_exporter": "python",
   "pygments_lexer": "ipython3",
   "version": "3.4.3"
  }
 },
 "nbformat": 4,
 "nbformat_minor": 0
}
